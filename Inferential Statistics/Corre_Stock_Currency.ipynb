{
 "cells": [
  {
   "cell_type": "code",
   "execution_count": 2,
   "metadata": {},
   "outputs": [],
   "source": [
    "import numpy as np\n",
    "import pandas as pd\n",
    "import matplotlib.pyplot as plt\n",
    "import yfinance as yf\n",
    "import statsmodels.api as sm\n",
    "from statsmodels.formula.api import ols\n",
    "from scipy.stats import ttest_ind, ttest_rel, pearsonr\n",
    "from sklearn import preprocessing"
   ]
  },
  {
   "cell_type": "code",
   "execution_count": null,
   "metadata": {},
   "outputs": [
    {
     "name": "stdout",
     "output_type": "stream",
     "text": [
      "(1306, 7)\n"
     ]
    }
   ],
   "source": [
    "# Get data on Currency Changes from Yahoo Finance for 5 years\n",
    "#currency_data = yf.Ticker(\"EURUSD=X\")\n",
    "#df_currency = currency_data.history(period=\"5y\")\n",
    "\n",
    "# Export the data to a csv file \n",
    "#path = '../Data/eur_usd_exchange_rate.csv'\n",
    "#df_currency.to_csv(path)"
   ]
  },
  {
   "cell_type": "code",
   "execution_count": 20,
   "metadata": {},
   "outputs": [
    {
     "name": "stdout",
     "output_type": "stream",
     "text": [
      "                  sum_sq     df         F    PR(>F)\n",
      "C(Close_y)  2.443187e+06  508.0  9.381779  0.000007\n",
      "Residual    7.689519e+03   15.0       NaN       NaN\n"
     ]
    }
   ],
   "source": [
    "# Preprocessing data\n",
    "\n",
    "# Convert to datetime\n",
    "stock_df['Date'] = pd.to_datetime(stock_df['Date'], errors='coerce')\n",
    "currency_df['Date'] = pd.to_datetime(currency_df['Date'], errors='coerce')\n",
    "\n",
    "# Remove invalid Date\n",
    "stock_df = stock_df.dropna(subset=['Date'])\n",
    "currency_df = currency_df.dropna(subset=['Date'])\n",
    "\n",
    "# Consider only date part\n",
    "stock_df['Date'] = stock_df['Date'].dt.date\n",
    "currency_df['Date'] = currency_df['Date'].dt.date\n",
    "\n",
    "# Merge stock price and currency changes\n",
    "merged_df = pd.merge(stock_df, currency_df, on='Date', how='inner')\n",
    "\n",
    "# ANOVA to determine the correlation between close stock price(dependent) and currency changes(independent)\n",
    "model = ols('Close_x ~ C(Close_y)', data=merged_df).fit()\n",
    "anova_table = sm.stats.anova_lm(model, typ=2)\n",
    "print(anova_table)\n"
   ]
  },
  {
   "cell_type": "markdown",
   "metadata": {},
   "source": [
    "# "
   ]
  }
 ],
 "metadata": {
  "kernelspec": {
   "display_name": "Python 3",
   "language": "python",
   "name": "python3"
  },
  "language_info": {
   "codemirror_mode": {
    "name": "ipython",
    "version": 3
   },
   "file_extension": ".py",
   "mimetype": "text/x-python",
   "name": "python",
   "nbconvert_exporter": "python",
   "pygments_lexer": "ipython3",
   "version": "3.12.7"
  }
 },
 "nbformat": 4,
 "nbformat_minor": 2
}
