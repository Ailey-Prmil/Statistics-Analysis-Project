{
 "cells": [
  {
   "cell_type": "code",
   "execution_count": 3,
   "metadata": {},
   "outputs": [],
   "source": [
    "import numpy as np\n",
    "import pandas as pd\n",
    "import matplotlib.pyplot as plt\n",
    "import yfinance as yf\n",
    "from scipy.stats import ttest_ind, ttest_rel, pearsonr\n",
    "from sklearn import preprocessing"
   ]
  },
  {
   "cell_type": "code",
   "execution_count": null,
   "metadata": {},
   "outputs": [
    {
     "name": "stdout",
     "output_type": "stream",
     "text": [
      "(1306, 7)\n"
     ]
    }
   ],
   "source": [
    "# Get data on Currency Changes from Yahoo Finance for 5 years\n",
    "#currency_data = yf.Ticker(\"EURUSD=X\")\n",
    "#df_currency = currency_data.history(period=\"5y\")\n",
    "\n",
    "# Export the data to a csv file \n",
    "#path = '../Data/eur_usd_exchange_rate.csv'\n",
    "#df_currency.to_csv(path)"
   ]
  },
  {
   "cell_type": "code",
   "execution_count": 17,
   "metadata": {},
   "outputs": [
    {
     "name": "stdout",
     "output_type": "stream",
     "text": [
      "Empty DataFrame\n",
      "Columns: [Date, Open_x, High_x, Low_x, Close_x, Volume_x, Dividends_x, Stock Splits_x, Open_y, High_y, Low_y, Close_y, Volume_y, Dividends_y, Stock Splits_y]\n",
      "Index: []\n"
     ]
    }
   ],
   "source": [
    "import pandas as pd\n",
    "\n",
    "# Load the data from CSV files\n",
    "df_currency = pd.read_csv('../Data/eur_usd_exchange_rate.csv')\n",
    "df_loreal = pd.read_csv('../Data/loreal_stock_price.csv')\n",
    "\n",
    "# Convert the 'Date' columns to datetime objects with utc=True\n",
    "df_currency['Date'] = pd.to_datetime(df_currency['Date'], utc=True)\n",
    "df_loreal['Date'] = pd.to_datetime(df_loreal['Date'], utc=True)\n",
    "\n",
    "# Remove the time zone information\n",
    "df_currency['Date'] = df_currency['Date'].dt.tz_localize(None)\n",
    "df_loreal['Date'] = df_loreal['Date'].dt.tz_localize(None)\n",
    "\n",
    "# Merge the DataFrames on the 'Date' column\n",
    "df_loreal_currency = pd.merge(df_currency, df_loreal, on='Date', how='inner')\n",
    "\n",
    "# Save the merged DataFrame to a CSV file\n",
    "path = '../Data/corre_loreal_currency.csv'\n",
    "df_loreal_currency.to_csv(path, index=False)\n",
    "\n",
    "# Print the first few rows of the merged DataFrame\n",
    "print(df_loreal_currency.head())\n"
   ]
  },
  {
   "cell_type": "code",
   "execution_count": 13,
   "metadata": {},
   "outputs": [
    {
     "name": "stdout",
     "output_type": "stream",
     "text": [
      "Empty DataFrame\n",
      "Columns: [Date, Open_x, High_x, Low_x, Close_x, Volume_x, Dividends_x, Stock Splits_x, Open_y, High_y, Low_y, Close_y, Volume_y, Dividends_y, Stock Splits_y]\n",
      "Index: []\n"
     ]
    }
   ],
   "source": [
    "# Load the data from csv files\n",
    "df_currency = pd.read_csv('../Data/eur_usd_exchange_rate.csv')\n",
    "df_loreal = pd.read_csv('../Data/loreal_stock_price.csv')\n",
    "\n",
    "# Merge csv files based on date column\n",
    "df_loreal_currency = pd.merge(df_currency, df_loreal, on = \"Date\", how = \"inner\")\n",
    "path = '../Data/corre_loreal_currency.csv'\n",
    "df_loreal_currency.to_csv(path)\n",
    "print(df_loreal_currency.head())\n",
    "# Pick the closing prices\n",
    "currency_close = df_currency['Close']\n",
    "loreal_close = df_loreal['Close']\n",
    "\n",
    "\n"
   ]
  },
  {
   "cell_type": "code",
   "execution_count": null,
   "metadata": {},
   "outputs": [],
   "source": [
    "# Match data of stock prices and currency changes\n",
    "stock_data['Date'] = pd.to_datetime(stock_data['Date'])\n",
    "currency_data['']"
   ]
  }
 ],
 "metadata": {
  "kernelspec": {
   "display_name": "Python 3",
   "language": "python",
   "name": "python3"
  },
  "language_info": {
   "codemirror_mode": {
    "name": "ipython",
    "version": 3
   },
   "file_extension": ".py",
   "mimetype": "text/x-python",
   "name": "python",
   "nbconvert_exporter": "python",
   "pygments_lexer": "ipython3",
   "version": "3.12.7"
  }
 },
 "nbformat": 4,
 "nbformat_minor": 2
}
